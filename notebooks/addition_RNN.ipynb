{
 "cells": [
  {
   "cell_type": "code",
   "execution_count": 1,
   "metadata": {
    "collapsed": false
   },
   "outputs": [
    {
     "name": "stderr",
     "output_type": "stream",
     "text": [
      "Using Theano backend.\n"
     ]
    }
   ],
   "source": [
    "from __future__ import print_function\n",
    "from keras.models import Sequential\n",
    "from keras.engine.training import slice_X\n",
    "from keras.layers.core import Activation, TimeDistributedDense, RepeatVector\n",
    "from keras.layers import recurrent\n",
    "import numpy as np\n",
    "from six.moves import range"
   ]
  },
  {
   "cell_type": "code",
   "execution_count": 2,
   "metadata": {
    "collapsed": true
   },
   "outputs": [],
   "source": [
    "class CharacterTable(object):\n",
    "    '''\n",
    "    Given a set of characters:\n",
    "    + Encode them to a one hot integer representation\n",
    "    + Decode the one hot integer representation to their character output\n",
    "    + Decode a vector of probabilties to their character output\n",
    "    '''\n",
    "    def __init__(self, chars, maxlen):\n",
    "        self.chars = sorted(set(chars))\n",
    "        self.char_indices = dict((c, i) for i, c in enumerate(self.chars))\n",
    "        self.indices_char = dict((i, c) for i, c in enumerate(self.chars))\n",
    "        self.maxlen = maxlen\n",
    "\n",
    "    def encode(self, C, maxlen=None):\n",
    "        maxlen = maxlen if maxlen else self.maxlen\n",
    "        X = np.zeros((maxlen, len(self.chars)))\n",
    "        for i, c in enumerate(C):\n",
    "            X[i, self.char_indices[c]] = 1\n",
    "        return X\n",
    "\n",
    "    def decode(self, X, calc_argmax=True):\n",
    "        if calc_argmax:\n",
    "            X = X.argmax(axis=-1)\n",
    "        return ''.join(self.indices_char[x] for x in X)\n"
   ]
  },
  {
   "cell_type": "code",
   "execution_count": 3,
   "metadata": {
    "collapsed": true
   },
   "outputs": [],
   "source": [
    "class colors:\n",
    "    ok = '\\033[92m'\n",
    "    fail = '\\033[91m'\n",
    "    close = '\\033[0m'"
   ]
  },
  {
   "cell_type": "code",
   "execution_count": 4,
   "metadata": {
    "collapsed": true
   },
   "outputs": [],
   "source": [
    "# Parameters for the model and dataset\n",
    "TRAINING_SIZE = 50000\n",
    "DIGITS = 3\n",
    "INVERT = True"
   ]
  },
  {
   "cell_type": "code",
   "execution_count": 5,
   "metadata": {
    "collapsed": true
   },
   "outputs": [],
   "source": [
    "# Try replacing GRU, or SimpleRNN\n",
    "RNN = recurrent.LSTM\n",
    "HIDDEN_SIZE = 128\n",
    "BATCH_SIZE = 128\n",
    "LAYERS = 1\n",
    "MAXLEN = DIGITS + 1 + DIGITS #Sentence LEN"
   ]
  },
  {
   "cell_type": "code",
   "execution_count": 6,
   "metadata": {
    "collapsed": true
   },
   "outputs": [],
   "source": [
    "chars = '0123456789+ '\n",
    "ctable = CharacterTable(chars, MAXLEN)"
   ]
  },
  {
   "cell_type": "code",
   "execution_count": 7,
   "metadata": {
    "collapsed": false
   },
   "outputs": [
    {
     "name": "stdout",
     "output_type": "stream",
     "text": [
      "[' ', '+', '0', '1', '2', '3', '4', '5', '6', '7', '8', '9']\n"
     ]
    }
   ],
   "source": [
    "# Let's understand the syntax below\n",
    "print(sorted(set(chars)))"
   ]
  },
  {
   "cell_type": "code",
   "execution_count": 8,
   "metadata": {
    "collapsed": true
   },
   "outputs": [],
   "source": [
    "questions = []\n",
    "expected = []\n",
    "seen = set()"
   ]
  },
  {
   "cell_type": "code",
   "execution_count": 9,
   "metadata": {
    "collapsed": false
   },
   "outputs": [
    {
     "name": "stdout",
     "output_type": "stream",
     "text": [
      "Generating data...\n",
      "Total addition questions: 50000\n"
     ]
    }
   ],
   "source": [
    "print('Generating data...')\n",
    "while len(questions) < TRAINING_SIZE:\n",
    "    f = lambda: int(''.join(np.random.choice(list('0123456789')) for i in range(np.random.randint(1, DIGITS + 1))))\n",
    "    a, b = f(), f()\n",
    "    # Skip any addition questions we've already seen\n",
    "    # Also skip any such that X+Y == Y+X (hence the sorting)\n",
    "    key = tuple(sorted((a, b)))\n",
    "    if key in seen:\n",
    "        continue\n",
    "    seen.add(key)\n",
    "    # Pad the data with spaces such that it is always MAXLEN\n",
    "    q = '{}+{}'.format(a, b)\n",
    "    query = q + ' ' * (MAXLEN - len(q))\n",
    "    ans = str(a + b)\n",
    "    # Answers can be of maximum size DIGITS + 1\n",
    "    ans += ' ' * (DIGITS + 1 - len(ans))\n",
    "    if INVERT:\n",
    "        query = query[::-1]\n",
    "    questions.append(query)\n",
    "    expected.append(ans)\n",
    "print('Total addition questions:', len(questions))"
   ]
  },
  {
   "cell_type": "code",
   "execution_count": 10,
   "metadata": {
    "collapsed": false
   },
   "outputs": [
    {
     "name": "stdout",
     "output_type": "stream",
     "text": [
      "Vectorization...\n"
     ]
    }
   ],
   "source": [
    "print('Vectorization...')\n",
    "# Return a new array of given shape and type, filled with zeros.\n",
    "X = np.zeros((len(questions), MAXLEN, len(chars)), dtype=np.bool)\n",
    "y = np.zeros((len(questions), DIGITS + 1, len(chars)), dtype=np.bool)\n",
    "for i, sentence in enumerate(questions):\n",
    "    X[i] = ctable.encode(sentence, maxlen=MAXLEN)\n",
    "for i, sentence in enumerate(expected):\n",
    "    y[i] = ctable.encode(sentence, maxlen=DIGITS + 1)"
   ]
  },
  {
   "cell_type": "code",
   "execution_count": 11,
   "metadata": {
    "collapsed": false
   },
   "outputs": [
    {
     "name": "stdout",
     "output_type": "stream",
     "text": [
      "0  =    0+472\n",
      "[[ 1.  0.  0.  0.  0.  0.  0.  0.  0.  0.  0.  0.]\n",
      " [ 1.  0.  0.  0.  0.  0.  0.  0.  0.  0.  0.  0.]\n",
      " [ 0.  0.  1.  0.  0.  0.  0.  0.  0.  0.  0.  0.]\n",
      " [ 0.  1.  0.  0.  0.  0.  0.  0.  0.  0.  0.  0.]\n",
      " [ 0.  0.  0.  0.  0.  0.  1.  0.  0.  0.  0.  0.]\n",
      " [ 0.  0.  0.  0.  0.  0.  0.  0.  0.  1.  0.  0.]\n",
      " [ 0.  0.  0.  0.  1.  0.  0.  0.  0.  0.  0.  0.]]\n",
      "1  =  354+008\n",
      "[[ 0.  0.  0.  0.  0.  1.  0.  0.  0.  0.  0.  0.]\n",
      " [ 0.  0.  0.  0.  0.  0.  0.  1.  0.  0.  0.  0.]\n",
      " [ 0.  0.  0.  0.  0.  0.  1.  0.  0.  0.  0.  0.]\n",
      " [ 0.  1.  0.  0.  0.  0.  0.  0.  0.  0.  0.  0.]\n",
      " [ 0.  0.  1.  0.  0.  0.  0.  0.  0.  0.  0.  0.]\n",
      " [ 0.  0.  1.  0.  0.  0.  0.  0.  0.  0.  0.  0.]\n",
      " [ 0.  0.  0.  0.  0.  0.  0.  0.  0.  0.  1.  0.]]\n",
      "2  =      0+0\n",
      "[[ 1.  0.  0.  0.  0.  0.  0.  0.  0.  0.  0.  0.]\n",
      " [ 1.  0.  0.  0.  0.  0.  0.  0.  0.  0.  0.  0.]\n",
      " [ 1.  0.  0.  0.  0.  0.  0.  0.  0.  0.  0.  0.]\n",
      " [ 1.  0.  0.  0.  0.  0.  0.  0.  0.  0.  0.  0.]\n",
      " [ 0.  0.  1.  0.  0.  0.  0.  0.  0.  0.  0.  0.]\n",
      " [ 0.  1.  0.  0.  0.  0.  0.  0.  0.  0.  0.  0.]\n",
      " [ 0.  0.  1.  0.  0.  0.  0.  0.  0.  0.  0.  0.]]\n",
      "3  =  126+259\n",
      "[[ 0.  0.  0.  1.  0.  0.  0.  0.  0.  0.  0.  0.]\n",
      " [ 0.  0.  0.  0.  1.  0.  0.  0.  0.  0.  0.  0.]\n",
      " [ 0.  0.  0.  0.  0.  0.  0.  0.  1.  0.  0.  0.]\n",
      " [ 0.  1.  0.  0.  0.  0.  0.  0.  0.  0.  0.  0.]\n",
      " [ 0.  0.  0.  0.  1.  0.  0.  0.  0.  0.  0.  0.]\n",
      " [ 0.  0.  0.  0.  0.  0.  0.  1.  0.  0.  0.  0.]\n",
      " [ 0.  0.  0.  0.  0.  0.  0.  0.  0.  0.  0.  1.]]\n",
      "4  =      2+8\n",
      "[[ 1.  0.  0.  0.  0.  0.  0.  0.  0.  0.  0.  0.]\n",
      " [ 1.  0.  0.  0.  0.  0.  0.  0.  0.  0.  0.  0.]\n",
      " [ 1.  0.  0.  0.  0.  0.  0.  0.  0.  0.  0.  0.]\n",
      " [ 1.  0.  0.  0.  0.  0.  0.  0.  0.  0.  0.  0.]\n",
      " [ 0.  0.  0.  0.  1.  0.  0.  0.  0.  0.  0.  0.]\n",
      " [ 0.  1.  0.  0.  0.  0.  0.  0.  0.  0.  0.  0.]\n",
      " [ 0.  0.  0.  0.  0.  0.  0.  0.  0.  0.  1.  0.]]\n",
      "5  =      0+4\n",
      "[[ 1.  0.  0.  0.  0.  0.  0.  0.  0.  0.  0.  0.]\n",
      " [ 1.  0.  0.  0.  0.  0.  0.  0.  0.  0.  0.  0.]\n",
      " [ 1.  0.  0.  0.  0.  0.  0.  0.  0.  0.  0.  0.]\n",
      " [ 1.  0.  0.  0.  0.  0.  0.  0.  0.  0.  0.  0.]\n",
      " [ 0.  0.  1.  0.  0.  0.  0.  0.  0.  0.  0.  0.]\n",
      " [ 0.  1.  0.  0.  0.  0.  0.  0.  0.  0.  0.  0.]\n",
      " [ 0.  0.  0.  0.  0.  0.  1.  0.  0.  0.  0.  0.]]\n"
     ]
    }
   ],
   "source": [
    "# just lets take a look at the content of the questions (5 first) and the encoding\n",
    "for i, sentence in enumerate(questions):\n",
    "    print(i,\" = \",sentence)\n",
    "    print(ctable.encode(sentence, maxlen=MAXLEN))\n",
    "    if i == 5: break"
   ]
  },
  {
   "cell_type": "code",
   "execution_count": 12,
   "metadata": {
    "collapsed": true
   },
   "outputs": [],
   "source": [
    "# Shuffle (X, y) in unison as the later parts of X will almost all be larger digits\n",
    "# np.arrange = Return evenly spaced values within a given interval.\n",
    "indices = np.arange(len(y))\n",
    "# Modify a sequence in-place by shuffling its contents.\n",
    "np.random.shuffle(indices)\n",
    "X = X[indices]\n",
    "y = y[indices]"
   ]
  },
  {
   "cell_type": "code",
   "execution_count": 13,
   "metadata": {
    "collapsed": false
   },
   "outputs": [
    {
     "name": "stdout",
     "output_type": "stream",
     "text": [
      "[    0     1     2 ..., 49997 49998 49999]\n",
      "[22489  8242 16753 ..., 46566  5941 32472]\n"
     ]
    }
   ],
   "source": [
    "print(np.arange(len(y)))\n",
    "print(indices)"
   ]
  },
  {
   "cell_type": "code",
   "execution_count": 14,
   "metadata": {
    "collapsed": false,
    "scrolled": true
   },
   "outputs": [
    {
     "name": "stdout",
     "output_type": "stream",
     "text": [
      "(45000, 7, 12)\n",
      "(45000, 4, 12)\n"
     ]
    },
    {
     "name": "stderr",
     "output_type": "stream",
     "text": [
      "/Users/som/Python_DevEnv/hs/lib/python3.4/site-packages/keras/engine/training.py:279: VisibleDeprecationWarning: using a non-integer number instead of an integer will result in an error in the future\n",
      "  return X[start:stop]\n",
      "/Users/som/Python_DevEnv/hs/lib/python3.4/site-packages/ipykernel/__main__.py:4: VisibleDeprecationWarning: using a non-integer number instead of an integer will result in an error in the future\n"
     ]
    }
   ],
   "source": [
    "# Explicitly set apart 10% for validation data that we never train over\n",
    "split_at = len(X) - len(X) / 10\n",
    "(X_train, X_val) = (slice_X(X, 0, split_at), slice_X(X, split_at))\n",
    "(y_train, y_val) = (y[:split_at], y[split_at:])\n",
    "\n",
    "print(X_train.shape)\n",
    "print(y_train.shape)"
   ]
  },
  {
   "cell_type": "code",
   "execution_count": 15,
   "metadata": {
    "collapsed": false
   },
   "outputs": [
    {
     "name": "stdout",
     "output_type": "stream",
     "text": [
      "Build model...\n"
     ]
    },
    {
     "name": "stderr",
     "output_type": "stream",
     "text": [
      "/Users/som/Python_DevEnv/hs/lib/python3.4/site-packages/keras/layers/core.py:978: UserWarning: TimeDistributedDense is deprecated, please use TimeDistributed(Dense(...)) instead.\n",
      "  warnings.warn('TimeDistributedDense is deprecated, '\n"
     ]
    }
   ],
   "source": [
    "print('Build model...')\n",
    "model = Sequential()\n",
    "# \"Encode\" the input sequence using an RNN, producing an output of HIDDEN_SIZE\n",
    "# note: in a situation where your input sequences have a variable length,\n",
    "# use input_shape=(None, nb_feature).\n",
    "\n",
    "# http://keras.io/layers/recurrent/#recurrent\n",
    "model.add(RNN(HIDDEN_SIZE, input_shape=(MAXLEN, len(chars))))\n",
    "\n",
    "# For the decoder's input, we repeat the encoded input for each time step\n",
    "# http://keras.io/layers/core/#repeatvector\n",
    "model.add(RepeatVector(DIGITS + 1))\n",
    "\n",
    "# The decoder RNN could be multiple layers stacked or a single layer\n",
    "for _ in range(LAYERS):\n",
    "    model.add(RNN(HIDDEN_SIZE, return_sequences=True))\n",
    "\n",
    "# For each of step of the output sequence, decide which character should be chosen\n",
    "# Apply a same Dense layer for each dimension[1] (time_dimension) input. \n",
    "# Especially useful after a recurrent network with 'return_sequence=True'.\n",
    "# http://keras.io/layers/core/#timedistributeddense\n",
    "model.add(TimeDistributedDense(len(chars)))\n",
    "\n",
    "# Applies an activation function to an output.\n",
    "# http://keras.io/activations/\n",
    "model.add(Activation('softmax'))\n",
    "\n",
    "# Configures the model for training\n",
    "# http://keras.io/models/model/#useful-attributes-of-model\n",
    "model.compile(loss='categorical_crossentropy',\n",
    "              optimizer='adam',\n",
    "              metrics=['accuracy'])"
   ]
  },
  {
   "cell_type": "code",
   "execution_count": 16,
   "metadata": {
    "collapsed": false
   },
   "outputs": [
    {
     "name": "stdout",
     "output_type": "stream",
     "text": [
      "____________________________________________________________________________________________________\n",
      "Layer (type)                       Output Shape        Param #     Connected to                     \n",
      "====================================================================================================\n",
      "lstm_1 (LSTM)                      (None, 128)         72192       lstm_input_1[0][0]               \n",
      "____________________________________________________________________________________________________\n",
      "repeatvector_1 (RepeatVector)      (None, 4, 128)      0           lstm_1[0][0]                     \n",
      "____________________________________________________________________________________________________\n",
      "lstm_2 (LSTM)                      (None, 4, 128)      131584      repeatvector_1[0][0]             \n",
      "____________________________________________________________________________________________________\n",
      "timedistributeddense_1 (TimeDistrib(None, 4, 12)       1548        lstm_2[0][0]                     \n",
      "____________________________________________________________________________________________________\n",
      "activation_1 (Activation)          (None, 4, 12)       0           timedistributeddense_1[0][0]     \n",
      "====================================================================================================\n",
      "Total params: 205324\n",
      "____________________________________________________________________________________________________\n",
      "None\n"
     ]
    }
   ],
   "source": [
    "# Lets explore the model\n",
    "# http://keras.io/models/about-keras-models/\n",
    "\n",
    "print(model.summary()) #  summary representation of your model"
   ]
  },
  {
   "cell_type": "code",
   "execution_count": 17,
   "metadata": {
    "collapsed": false
   },
   "outputs": [
    {
     "name": "stdout",
     "output_type": "stream",
     "text": [
      "[{'class_name': 'LSTM', 'config': {'stateful': False, 'unroll': False, 'init': 'glorot_uniform', 'name': 'lstm_1', 'input_length': None, 'dropout_U': 0.0, 'input_dim': 12, 'output_dim': 128, 'activation': 'tanh', 'U_regularizer': None, 'b_regularizer': None, 'input_dtype': 'float32', 'inner_activation': 'hard_sigmoid', 'return_sequences': False, 'consume_less': 'cpu', 'go_backwards': False, 'batch_input_shape': (None, 7, 12), 'trainable': True, 'forget_bias_init': 'one', 'dropout_W': 0.0, 'inner_init': 'orthogonal', 'W_regularizer': None}}, {'class_name': 'RepeatVector', 'config': {'name': 'repeatvector_1', 'trainable': True, 'n': 4}}, {'class_name': 'LSTM', 'config': {'stateful': False, 'U_regularizer': None, 'b_regularizer': None, 'unroll': False, 'activation': 'tanh', 'init': 'glorot_uniform', 'name': 'lstm_2', 'return_sequences': True, 'inner_activation': 'hard_sigmoid', 'consume_less': 'cpu', 'go_backwards': False, 'input_length': None, 'inner_init': 'orthogonal', 'trainable': True, 'forget_bias_init': 'one', 'dropout_W': 0.0, 'dropout_U': 0.0, 'input_dim': 128, 'W_regularizer': None, 'output_dim': 128}}, {'class_name': 'TimeDistributedDense', 'config': {'activation': 'linear', 'input_dim': None, 'b_regularizer': None, 'init': 'glorot_uniform', 'name': 'timedistributeddense_1', 'W_constraint': None, 'b_constraint': None, 'input_length': None, 'trainable': True, 'activity_regularizer': None, 'W_regularizer': None, 'output_dim': 12}}, {'class_name': 'Activation', 'config': {'name': 'activation_1', 'trainable': True, 'activation': 'softmax'}}]\n"
     ]
    }
   ],
   "source": [
    "print(model.get_config()) # dictionary containing the configuration of the model"
   ]
  },
  {
   "cell_type": "code",
   "execution_count": 18,
   "metadata": {
    "collapsed": false
   },
   "outputs": [
    {
     "name": "stdout",
     "output_type": "stream",
     "text": [
      "[array([[-0.05688991, -0.20616724, -0.03885408, ..., -0.05425313,\n",
      "        -0.08791005,  0.0221867 ],\n",
      "       [ 0.10702851, -0.11690623,  0.19620807, ..., -0.0371106 ,\n",
      "         0.09570221,  0.11045586],\n",
      "       [ 0.19467279, -0.08715624, -0.0315129 , ...,  0.09902659,\n",
      "        -0.14890358,  0.08740961],\n",
      "       ..., \n",
      "       [ 0.14905863,  0.01145949,  0.0081084 , ..., -0.09142116,\n",
      "        -0.06175877, -0.0067453 ],\n",
      "       [-0.0511357 , -0.1089561 , -0.04776838, ...,  0.16634578,\n",
      "        -0.0491608 , -0.20180464],\n",
      "       [ 0.00033753, -0.07128713,  0.18035302, ...,  0.04103767,\n",
      "        -0.06444315, -0.05630661]], dtype=float32), array([[ 0.01936707, -0.01729723,  0.03921725, ...,  0.10109361,\n",
      "         0.01403662,  0.04996431],\n",
      "       [-0.11023977,  0.03153499,  0.12532127, ..., -0.03253487,\n",
      "        -0.04452768, -0.01921306],\n",
      "       [-0.15613616,  0.00373495,  0.02013076, ..., -0.02240739,\n",
      "        -0.0264896 , -0.20991005],\n",
      "       ..., \n",
      "       [ 0.1620263 , -0.06731363,  0.01463934, ...,  0.02036861,\n",
      "         0.02258616,  0.01831118],\n",
      "       [ 0.12558986, -0.03540337, -0.04924221, ...,  0.09489253,\n",
      "        -0.09920498, -0.08793684],\n",
      "       [-0.11717282, -0.05452769, -0.00287002, ...,  0.20367348,\n",
      "         0.12904577,  0.11411981]], dtype=float32), array([ 0.,  0.,  0.,  0.,  0.,  0.,  0.,  0.,  0.,  0.,  0.,  0.,  0.,\n",
      "        0.,  0.,  0.,  0.,  0.,  0.,  0.,  0.,  0.,  0.,  0.,  0.,  0.,\n",
      "        0.,  0.,  0.,  0.,  0.,  0.,  0.,  0.,  0.,  0.,  0.,  0.,  0.,\n",
      "        0.,  0.,  0.,  0.,  0.,  0.,  0.,  0.,  0.,  0.,  0.,  0.,  0.,\n",
      "        0.,  0.,  0.,  0.,  0.,  0.,  0.,  0.,  0.,  0.,  0.,  0.,  0.,\n",
      "        0.,  0.,  0.,  0.,  0.,  0.,  0.,  0.,  0.,  0.,  0.,  0.,  0.,\n",
      "        0.,  0.,  0.,  0.,  0.,  0.,  0.,  0.,  0.,  0.,  0.,  0.,  0.,\n",
      "        0.,  0.,  0.,  0.,  0.,  0.,  0.,  0.,  0.,  0.,  0.,  0.,  0.,\n",
      "        0.,  0.,  0.,  0.,  0.,  0.,  0.,  0.,  0.,  0.,  0.,  0.,  0.,\n",
      "        0.,  0.,  0.,  0.,  0.,  0.,  0.,  0.,  0.,  0.,  0.], dtype=float32), array([[-0.05420593,  0.19488804, -0.01983893, ..., -0.17268932,\n",
      "        -0.12228849, -0.17844152],\n",
      "       [ 0.12703541, -0.02983429,  0.11170428, ..., -0.07588721,\n",
      "        -0.18930256,  0.16204315],\n",
      "       [-0.20240395, -0.02919322, -0.15279435, ...,  0.12794948,\n",
      "        -0.09807956,  0.04103833],\n",
      "       ..., \n",
      "       [ 0.04196029, -0.0794713 , -0.13848922, ...,  0.18766402,\n",
      "         0.00566835, -0.19079694],\n",
      "       [ 0.05660837, -0.19800878,  0.07607924, ..., -0.1205729 ,\n",
      "        -0.14882262, -0.07923912],\n",
      "       [-0.15936968,  0.11805985, -0.03861641, ..., -0.1852383 ,\n",
      "        -0.03728501,  0.07731871]], dtype=float32), array([[-0.04862994, -0.08808351, -0.1346878 , ..., -0.05194021,\n",
      "        -0.0761517 , -0.1196742 ],\n",
      "       [ 0.07345407, -0.14731544, -0.0244869 , ...,  0.04923258,\n",
      "         0.02682428, -0.09610667],\n",
      "       [-0.1274696 , -0.06127954, -0.04785352, ...,  0.06384782,\n",
      "        -0.00769438, -0.03698447],\n",
      "       ..., \n",
      "       [-0.06223983,  0.08048449, -0.14819114, ...,  0.07646236,\n",
      "         0.12445517, -0.07587095],\n",
      "       [-0.01279979, -0.06288169, -0.05177609, ..., -0.06929353,\n",
      "        -0.03130343, -0.05494448],\n",
      "       [ 0.06287108, -0.02546313,  0.08163159, ..., -0.0081738 ,\n",
      "        -0.1660873 ,  0.08084913]], dtype=float32), array([ 0.,  0.,  0.,  0.,  0.,  0.,  0.,  0.,  0.,  0.,  0.,  0.,  0.,\n",
      "        0.,  0.,  0.,  0.,  0.,  0.,  0.,  0.,  0.,  0.,  0.,  0.,  0.,\n",
      "        0.,  0.,  0.,  0.,  0.,  0.,  0.,  0.,  0.,  0.,  0.,  0.,  0.,\n",
      "        0.,  0.,  0.,  0.,  0.,  0.,  0.,  0.,  0.,  0.,  0.,  0.,  0.,\n",
      "        0.,  0.,  0.,  0.,  0.,  0.,  0.,  0.,  0.,  0.,  0.,  0.,  0.,\n",
      "        0.,  0.,  0.,  0.,  0.,  0.,  0.,  0.,  0.,  0.,  0.,  0.,  0.,\n",
      "        0.,  0.,  0.,  0.,  0.,  0.,  0.,  0.,  0.,  0.,  0.,  0.,  0.,\n",
      "        0.,  0.,  0.,  0.,  0.,  0.,  0.,  0.,  0.,  0.,  0.,  0.,  0.,\n",
      "        0.,  0.,  0.,  0.,  0.,  0.,  0.,  0.,  0.,  0.,  0.,  0.,  0.,\n",
      "        0.,  0.,  0.,  0.,  0.,  0.,  0.,  0.,  0.,  0.,  0.], dtype=float32), array([[-0.16669399,  0.15240417, -0.02724482, ..., -0.18836567,\n",
      "        -0.13014807,  0.14551084],\n",
      "       [-0.06080879,  0.01722529, -0.17971204, ...,  0.11137094,\n",
      "        -0.09865477,  0.11854169],\n",
      "       [ 0.17423335, -0.0757845 ,  0.11463197, ...,  0.16711606,\n",
      "        -0.09911548, -0.12889366],\n",
      "       ..., \n",
      "       [-0.00383821,  0.18910237,  0.17021658, ...,  0.08107614,\n",
      "        -0.00253286,  0.01581535],\n",
      "       [-0.13243257, -0.13416773,  0.17945531, ..., -0.17689966,\n",
      "        -0.07588291, -0.11566824],\n",
      "       [ 0.08070593, -0.11475437,  0.04000797, ...,  0.15950951,\n",
      "         0.01140497, -0.08015424]], dtype=float32), array([[ 0.0369746 ,  0.07421267, -0.18900749, ...,  0.15617847,\n",
      "        -0.04525699, -0.07431909],\n",
      "       [-0.04245492, -0.00526409,  0.1290715 , ..., -0.03641922,\n",
      "        -0.2082817 ,  0.07837172],\n",
      "       [ 0.04867561, -0.02683596, -0.10156922, ...,  0.04807561,\n",
      "        -0.16020258,  0.10393712],\n",
      "       ..., \n",
      "       [-0.04349262,  0.32528469,  0.03338069, ...,  0.03786144,\n",
      "         0.07967643, -0.06290957],\n",
      "       [-0.15151292,  0.04695433, -0.01144858, ..., -0.09548763,\n",
      "         0.00243674, -0.01882565],\n",
      "       [-0.02574806,  0.05413507, -0.09649976, ...,  0.0610443 ,\n",
      "        -0.03201834, -0.05583198]], dtype=float32), array([ 1.,  1.,  1.,  1.,  1.,  1.,  1.,  1.,  1.,  1.,  1.,  1.,  1.,\n",
      "        1.,  1.,  1.,  1.,  1.,  1.,  1.,  1.,  1.,  1.,  1.,  1.,  1.,\n",
      "        1.,  1.,  1.,  1.,  1.,  1.,  1.,  1.,  1.,  1.,  1.,  1.,  1.,\n",
      "        1.,  1.,  1.,  1.,  1.,  1.,  1.,  1.,  1.,  1.,  1.,  1.,  1.,\n",
      "        1.,  1.,  1.,  1.,  1.,  1.,  1.,  1.,  1.,  1.,  1.,  1.,  1.,\n",
      "        1.,  1.,  1.,  1.,  1.,  1.,  1.,  1.,  1.,  1.,  1.,  1.,  1.,\n",
      "        1.,  1.,  1.,  1.,  1.,  1.,  1.,  1.,  1.,  1.,  1.,  1.,  1.,\n",
      "        1.,  1.,  1.,  1.,  1.,  1.,  1.,  1.,  1.,  1.,  1.,  1.,  1.,\n",
      "        1.,  1.,  1.,  1.,  1.,  1.,  1.,  1.,  1.,  1.,  1.,  1.,  1.,\n",
      "        1.,  1.,  1.,  1.,  1.,  1.,  1.,  1.,  1.,  1.,  1.], dtype=float32), array([[ 0.0642527 ,  0.17818835, -0.00589873, ..., -0.00504668,\n",
      "         0.02307486,  0.04993201],\n",
      "       [ 0.03902387,  0.16924748,  0.05268735, ..., -0.04401373,\n",
      "         0.13955672, -0.02149907],\n",
      "       [ 0.14275025,  0.17763157, -0.11136664, ...,  0.01501224,\n",
      "        -0.17138262, -0.18017216],\n",
      "       ..., \n",
      "       [-0.15387656, -0.06371719, -0.12098117, ...,  0.10079038,\n",
      "        -0.02206163,  0.02820889],\n",
      "       [ 0.03715312, -0.15707439, -0.03601325, ...,  0.1482688 ,\n",
      "        -0.14632286, -0.02290397],\n",
      "       [-0.08220793,  0.03350841, -0.18806891, ...,  0.14821297,\n",
      "         0.09120221, -0.11735953]], dtype=float32), array([[-0.1549495 ,  0.03364903,  0.20591101, ..., -0.08723814,\n",
      "        -0.04559211, -0.12307105],\n",
      "       [-0.0998454 , -0.04111427,  0.02100622, ..., -0.09541129,\n",
      "         0.08757687,  0.11760134],\n",
      "       [-0.01273787, -0.03677429, -0.06850981, ...,  0.14750539,\n",
      "        -0.13784046, -0.06941124],\n",
      "       ..., \n",
      "       [ 0.02580648,  0.18101102, -0.00989379, ...,  0.27717403,\n",
      "         0.05769872,  0.04749631],\n",
      "       [-0.12034179,  0.0555135 , -0.00066891, ..., -0.10504613,\n",
      "         0.03019664, -0.23544806],\n",
      "       [ 0.13335183,  0.06473898, -0.22368421, ...,  0.10862105,\n",
      "        -0.02304016, -0.14817177]], dtype=float32), array([ 0.,  0.,  0.,  0.,  0.,  0.,  0.,  0.,  0.,  0.,  0.,  0.,  0.,\n",
      "        0.,  0.,  0.,  0.,  0.,  0.,  0.,  0.,  0.,  0.,  0.,  0.,  0.,\n",
      "        0.,  0.,  0.,  0.,  0.,  0.,  0.,  0.,  0.,  0.,  0.,  0.,  0.,\n",
      "        0.,  0.,  0.,  0.,  0.,  0.,  0.,  0.,  0.,  0.,  0.,  0.,  0.,\n",
      "        0.,  0.,  0.,  0.,  0.,  0.,  0.,  0.,  0.,  0.,  0.,  0.,  0.,\n",
      "        0.,  0.,  0.,  0.,  0.,  0.,  0.,  0.,  0.,  0.,  0.,  0.,  0.,\n",
      "        0.,  0.,  0.,  0.,  0.,  0.,  0.,  0.,  0.,  0.,  0.,  0.,  0.,\n",
      "        0.,  0.,  0.,  0.,  0.,  0.,  0.,  0.,  0.,  0.,  0.,  0.,  0.,\n",
      "        0.,  0.,  0.,  0.,  0.,  0.,  0.,  0.,  0.,  0.,  0.,  0.,  0.,\n",
      "        0.,  0.,  0.,  0.,  0.,  0.,  0.,  0.,  0.,  0.,  0.], dtype=float32), array([[ 0.10991831,  0.03255438, -0.11060186, ..., -0.02379678,\n",
      "        -0.11940226, -0.09495489],\n",
      "       [-0.10840268, -0.0965528 , -0.03961284, ..., -0.14143959,\n",
      "         0.13716856,  0.11124053],\n",
      "       [ 0.03265883,  0.14983107,  0.09778121, ..., -0.08939151,\n",
      "         0.09574666,  0.13243432],\n",
      "       ..., \n",
      "       [-0.08488529, -0.04736202, -0.07410961, ...,  0.00837442,\n",
      "         0.04026596, -0.07773012],\n",
      "       [ 0.00947549, -0.08622243,  0.13147858, ...,  0.03425159,\n",
      "         0.06673089,  0.10438354],\n",
      "       [-0.02211655,  0.09316848, -0.15091668, ..., -0.10608901,\n",
      "         0.07360213, -0.11832368]], dtype=float32), array([[-0.1710854 , -0.09800924,  0.04368605, ...,  0.02234848,\n",
      "         0.11085973, -0.16658501],\n",
      "       [ 0.19852911,  0.18131854, -0.01546628, ...,  0.11223241,\n",
      "        -0.07997856, -0.14443447],\n",
      "       [ 0.01200264,  0.06818124,  0.02593447, ..., -0.03139296,\n",
      "         0.08487987, -0.03706972],\n",
      "       ..., \n",
      "       [-0.08982737, -0.22098644,  0.07517625, ..., -0.07233499,\n",
      "        -0.16347817,  0.08257125],\n",
      "       [-0.07258024, -0.00218869, -0.08571182, ..., -0.22616273,\n",
      "         0.06046385,  0.0772006 ],\n",
      "       [ 0.28119478, -0.10217416, -0.02195829, ..., -0.14286047,\n",
      "         0.14458925, -0.09228613]], dtype=float32), array([ 0.,  0.,  0.,  0.,  0.,  0.,  0.,  0.,  0.,  0.,  0.,  0.,  0.,\n",
      "        0.,  0.,  0.,  0.,  0.,  0.,  0.,  0.,  0.,  0.,  0.,  0.,  0.,\n",
      "        0.,  0.,  0.,  0.,  0.,  0.,  0.,  0.,  0.,  0.,  0.,  0.,  0.,\n",
      "        0.,  0.,  0.,  0.,  0.,  0.,  0.,  0.,  0.,  0.,  0.,  0.,  0.,\n",
      "        0.,  0.,  0.,  0.,  0.,  0.,  0.,  0.,  0.,  0.,  0.,  0.,  0.,\n",
      "        0.,  0.,  0.,  0.,  0.,  0.,  0.,  0.,  0.,  0.,  0.,  0.,  0.,\n",
      "        0.,  0.,  0.,  0.,  0.,  0.,  0.,  0.,  0.,  0.,  0.,  0.,  0.,\n",
      "        0.,  0.,  0.,  0.,  0.,  0.,  0.,  0.,  0.,  0.,  0.,  0.,  0.,\n",
      "        0.,  0.,  0.,  0.,  0.,  0.,  0.,  0.,  0.,  0.,  0.,  0.,  0.,\n",
      "        0.,  0.,  0.,  0.,  0.,  0.,  0.,  0.,  0.,  0.,  0.], dtype=float32), array([[ 0.01064859,  0.12770601,  0.13635756, ..., -0.11764519,\n",
      "         0.00919281,  0.107942  ],\n",
      "       [-0.11321358,  0.05270944, -0.14068334, ..., -0.0779256 ,\n",
      "        -0.00927691,  0.03797185],\n",
      "       [ 0.13004135, -0.02595344,  0.10309064, ..., -0.09340912,\n",
      "        -0.06497685,  0.14818817],\n",
      "       ..., \n",
      "       [-0.07665601,  0.1344898 ,  0.07394075, ...,  0.00271   ,\n",
      "        -0.13849834,  0.11549993],\n",
      "       [ 0.02716714,  0.07654396,  0.00693098, ...,  0.0603166 ,\n",
      "         0.04867281, -0.12077808],\n",
      "       [-0.01642617,  0.01998915,  0.07496808, ..., -0.00771362,\n",
      "         0.08019346, -0.008791  ]], dtype=float32), array([[ 0.19083884, -0.08147312, -0.01260559, ...,  0.09910262,\n",
      "         0.10140311, -0.02270047],\n",
      "       [ 0.02056079, -0.06659821, -0.08925218, ..., -0.0303065 ,\n",
      "        -0.02854656,  0.20162828],\n",
      "       [ 0.07870627, -0.03580796, -0.10151397, ...,  0.0438961 ,\n",
      "         0.05210293, -0.0663845 ],\n",
      "       ..., \n",
      "       [-0.09438823,  0.05952518,  0.04715876, ...,  0.19796877,\n",
      "         0.06616177,  0.02930061],\n",
      "       [-0.05198092,  0.05834248, -0.0385771 , ...,  0.02971615,\n",
      "         0.0774257 , -0.01005133],\n",
      "       [-0.06283338,  0.10131387, -0.19061299, ..., -0.15714827,\n",
      "        -0.03743852, -0.00934982]], dtype=float32), array([ 0.,  0.,  0.,  0.,  0.,  0.,  0.,  0.,  0.,  0.,  0.,  0.,  0.,\n",
      "        0.,  0.,  0.,  0.,  0.,  0.,  0.,  0.,  0.,  0.,  0.,  0.,  0.,\n",
      "        0.,  0.,  0.,  0.,  0.,  0.,  0.,  0.,  0.,  0.,  0.,  0.,  0.,\n",
      "        0.,  0.,  0.,  0.,  0.,  0.,  0.,  0.,  0.,  0.,  0.,  0.,  0.,\n",
      "        0.,  0.,  0.,  0.,  0.,  0.,  0.,  0.,  0.,  0.,  0.,  0.,  0.,\n",
      "        0.,  0.,  0.,  0.,  0.,  0.,  0.,  0.,  0.,  0.,  0.,  0.,  0.,\n",
      "        0.,  0.,  0.,  0.,  0.,  0.,  0.,  0.,  0.,  0.,  0.,  0.,  0.,\n",
      "        0.,  0.,  0.,  0.,  0.,  0.,  0.,  0.,  0.,  0.,  0.,  0.,  0.,\n",
      "        0.,  0.,  0.,  0.,  0.,  0.,  0.,  0.,  0.,  0.,  0.,  0.,  0.,\n",
      "        0.,  0.,  0.,  0.,  0.,  0.,  0.,  0.,  0.,  0.,  0.], dtype=float32), array([[-0.01883055, -0.10675392,  0.14025122, ...,  0.05864782,\n",
      "         0.03319532,  0.07321582],\n",
      "       [-0.08564495,  0.04789735,  0.02302449, ...,  0.08045974,\n",
      "        -0.07730802,  0.15222713],\n",
      "       [ 0.05390637,  0.03169396, -0.14017817, ..., -0.01922831,\n",
      "         0.04770956, -0.12293455],\n",
      "       ..., \n",
      "       [-0.01706634,  0.00946002,  0.11741752, ...,  0.05382112,\n",
      "        -0.1392425 ,  0.10617495],\n",
      "       [-0.04509129,  0.02573846, -0.1107568 , ..., -0.00661643,\n",
      "         0.10405331, -0.07607   ],\n",
      "       [-0.0004357 , -0.02297638, -0.13459074, ...,  0.11166993,\n",
      "         0.11692633,  0.09166529]], dtype=float32), array([[-0.11686703, -0.15091482, -0.11553963, ...,  0.31466532,\n",
      "         0.00477309,  0.2600385 ],\n",
      "       [-0.27303863, -0.10558917, -0.04676107, ..., -0.09848715,\n",
      "         0.13096656, -0.01475284],\n",
      "       [-0.15837172,  0.04648904,  0.1619041 , ...,  0.15998112,\n",
      "        -0.00369022, -0.03546396],\n",
      "       ..., \n",
      "       [ 0.02989416,  0.03563304, -0.17662548, ...,  0.01769817,\n",
      "        -0.0332435 , -0.00346012],\n",
      "       [-0.0257968 ,  0.02851642,  0.00420464, ..., -0.00436786,\n",
      "         0.04970372,  0.11315988],\n",
      "       [-0.03932367, -0.28755581, -0.07558589, ...,  0.11075103,\n",
      "        -0.14240259, -0.12942758]], dtype=float32), array([ 1.,  1.,  1.,  1.,  1.,  1.,  1.,  1.,  1.,  1.,  1.,  1.,  1.,\n",
      "        1.,  1.,  1.,  1.,  1.,  1.,  1.,  1.,  1.,  1.,  1.,  1.,  1.,\n",
      "        1.,  1.,  1.,  1.,  1.,  1.,  1.,  1.,  1.,  1.,  1.,  1.,  1.,\n",
      "        1.,  1.,  1.,  1.,  1.,  1.,  1.,  1.,  1.,  1.,  1.,  1.,  1.,\n",
      "        1.,  1.,  1.,  1.,  1.,  1.,  1.,  1.,  1.,  1.,  1.,  1.,  1.,\n",
      "        1.,  1.,  1.,  1.,  1.,  1.,  1.,  1.,  1.,  1.,  1.,  1.,  1.,\n",
      "        1.,  1.,  1.,  1.,  1.,  1.,  1.,  1.,  1.,  1.,  1.,  1.,  1.,\n",
      "        1.,  1.,  1.,  1.,  1.,  1.,  1.,  1.,  1.,  1.,  1.,  1.,  1.,\n",
      "        1.,  1.,  1.,  1.,  1.,  1.,  1.,  1.,  1.,  1.,  1.,  1.,  1.,\n",
      "        1.,  1.,  1.,  1.,  1.,  1.,  1.,  1.,  1.,  1.,  1.], dtype=float32), array([[-0.03795624, -0.1102135 , -0.02269614, ...,  0.00573154,\n",
      "        -0.08112971,  0.15038024],\n",
      "       [ 0.05551924, -0.00750712, -0.08000089, ...,  0.12291703,\n",
      "         0.08862466, -0.07340838],\n",
      "       [-0.12293299, -0.09393117,  0.01045618, ..., -0.10909881,\n",
      "        -0.06128366,  0.12594059],\n",
      "       ..., \n",
      "       [-0.12654808,  0.04383424, -0.04357655, ..., -0.12210831,\n",
      "        -0.06834853,  0.08141497],\n",
      "       [ 0.12828843, -0.15292245, -0.04025999, ...,  0.08151173,\n",
      "        -0.09317858,  0.14266659],\n",
      "       [-0.0415638 , -0.02422485, -0.12877959, ...,  0.05458919,\n",
      "         0.11793142, -0.00609894]], dtype=float32), array([[-0.12086239,  0.25924125,  0.04028837, ..., -0.00297282,\n",
      "         0.05479606, -0.00120493],\n",
      "       [ 0.00653839, -0.13925292, -0.04147768, ...,  0.18909661,\n",
      "        -0.10707999, -0.01950541],\n",
      "       [ 0.06765458, -0.04912242,  0.06106713, ...,  0.04178559,\n",
      "         0.01520551,  0.12681243],\n",
      "       ..., \n",
      "       [-0.02816154, -0.04385841, -0.12074091, ...,  0.04636644,\n",
      "         0.10389815, -0.06972964],\n",
      "       [ 0.08169024, -0.04607666, -0.16300599, ..., -0.09607394,\n",
      "         0.06809365,  0.08079067],\n",
      "       [-0.13912308, -0.13739152,  0.09403625, ..., -0.06444725,\n",
      "        -0.08283701,  0.07128952]], dtype=float32), array([ 0.,  0.,  0.,  0.,  0.,  0.,  0.,  0.,  0.,  0.,  0.,  0.,  0.,\n",
      "        0.,  0.,  0.,  0.,  0.,  0.,  0.,  0.,  0.,  0.,  0.,  0.,  0.,\n",
      "        0.,  0.,  0.,  0.,  0.,  0.,  0.,  0.,  0.,  0.,  0.,  0.,  0.,\n",
      "        0.,  0.,  0.,  0.,  0.,  0.,  0.,  0.,  0.,  0.,  0.,  0.,  0.,\n",
      "        0.,  0.,  0.,  0.,  0.,  0.,  0.,  0.,  0.,  0.,  0.,  0.,  0.,\n",
      "        0.,  0.,  0.,  0.,  0.,  0.,  0.,  0.,  0.,  0.,  0.,  0.,  0.,\n",
      "        0.,  0.,  0.,  0.,  0.,  0.,  0.,  0.,  0.,  0.,  0.,  0.,  0.,\n",
      "        0.,  0.,  0.,  0.,  0.,  0.,  0.,  0.,  0.,  0.,  0.,  0.,  0.,\n",
      "        0.,  0.,  0.,  0.,  0.,  0.,  0.,  0.,  0.,  0.,  0.,  0.,  0.,\n",
      "        0.,  0.,  0.,  0.,  0.,  0.,  0.,  0.,  0.,  0.,  0.], dtype=float32), array([[-0.13701199,  0.18099505, -0.11077268, ...,  0.17982039,\n",
      "        -0.02074727,  0.05148331],\n",
      "       [ 0.01288722, -0.00504878, -0.07332157, ..., -0.11704653,\n",
      "         0.02047456, -0.11785149],\n",
      "       [ 0.19830303, -0.10967451, -0.16418748, ...,  0.18422119,\n",
      "        -0.15824375,  0.17743456],\n",
      "       ..., \n",
      "       [-0.12035942, -0.19442245, -0.19317973, ..., -0.07394502,\n",
      "         0.16028686, -0.12498111],\n",
      "       [-0.05946416, -0.09962171,  0.08471243, ...,  0.19489685,\n",
      "         0.17093584,  0.14848965],\n",
      "       [-0.12987393, -0.04399486, -0.19786917, ..., -0.04008594,\n",
      "         0.16450261, -0.12904842]], dtype=float32), array([ 0.,  0.,  0.,  0.,  0.,  0.,  0.,  0.,  0.,  0.,  0.,  0.], dtype=float32)]\n"
     ]
    }
   ],
   "source": [
    "print(model.get_weights()) # list of all weight tensors in the model, as Numpy arrays"
   ]
  },
  {
   "cell_type": "code",
   "execution_count": 19,
   "metadata": {
    "collapsed": false
   },
   "outputs": [
    {
     "name": "stdout",
     "output_type": "stream",
     "text": [
      "{\"class_name\": \"Sequential\", \"config\": [{\"class_name\": \"LSTM\", \"config\": {\"stateful\": false, \"unroll\": false, \"init\": \"glorot_uniform\", \"name\": \"lstm_1\", \"input_length\": null, \"dropout_U\": 0.0, \"input_dim\": 12, \"output_dim\": 128, \"activation\": \"tanh\", \"U_regularizer\": null, \"b_regularizer\": null, \"input_dtype\": \"float32\", \"inner_activation\": \"hard_sigmoid\", \"return_sequences\": false, \"consume_less\": \"cpu\", \"go_backwards\": false, \"batch_input_shape\": [null, 7, 12], \"trainable\": true, \"forget_bias_init\": \"one\", \"dropout_W\": 0.0, \"inner_init\": \"orthogonal\", \"W_regularizer\": null}}, {\"class_name\": \"RepeatVector\", \"config\": {\"name\": \"repeatvector_1\", \"trainable\": true, \"n\": 4}}, {\"class_name\": \"LSTM\", \"config\": {\"stateful\": false, \"U_regularizer\": null, \"b_regularizer\": null, \"unroll\": false, \"activation\": \"tanh\", \"init\": \"glorot_uniform\", \"name\": \"lstm_2\", \"return_sequences\": true, \"inner_activation\": \"hard_sigmoid\", \"consume_less\": \"cpu\", \"go_backwards\": false, \"input_length\": null, \"inner_init\": \"orthogonal\", \"trainable\": true, \"forget_bias_init\": \"one\", \"dropout_W\": 0.0, \"dropout_U\": 0.0, \"input_dim\": 128, \"W_regularizer\": null, \"output_dim\": 128}}, {\"class_name\": \"TimeDistributedDense\", \"config\": {\"activation\": \"linear\", \"input_dim\": null, \"b_regularizer\": null, \"init\": \"glorot_uniform\", \"name\": \"timedistributeddense_1\", \"W_constraint\": null, \"b_constraint\": null, \"input_length\": null, \"trainable\": true, \"activity_regularizer\": null, \"W_regularizer\": null, \"output_dim\": 12}}, {\"class_name\": \"Activation\", \"config\": {\"name\": \"activation_1\", \"trainable\": true, \"activation\": \"softmax\"}}]}\n"
     ]
    }
   ],
   "source": [
    "print(model.to_json()) # model as a JSON string"
   ]
  },
  {
   "cell_type": "code",
   "execution_count": null,
   "metadata": {
    "collapsed": false
   },
   "outputs": [
    {
     "name": "stdout",
     "output_type": "stream",
     "text": [
      "\n",
      "--------------------------------------------------\n",
      "Iteration 1\n",
      "Train on 45000 samples, validate on 5000 samples\n",
      "Epoch 1/1\n",
      "45000/45000 [==============================] - 22s - loss: 1.8471 - acc: 0.3319 - val_loss: 1.7171 - val_acc: 0.3657\n",
      "[3 3 0 0]\n",
      "Q 26+3   \n",
      "T 29  \n",
      "\u001b[91m☒\u001b[0m 11  \n",
      "---\n",
      "\n",
      "[5 5 5 0]\n",
      "Q 23+450 \n",
      "T 473 \n",
      "\u001b[91m☒\u001b[0m 333 \n",
      "---\n",
      "\n",
      "[5 5 5 0]\n",
      "Q 723+20 \n",
      "T 743 \n",
      "\u001b[91m☒\u001b[0m 333 \n",
      "---\n",
      "\n",
      "[3 2 8 0]\n",
      "Q 195+16 \n",
      "T 211 \n",
      "\u001b[91m☒\u001b[0m 106 \n",
      "---\n",
      "\n",
      "[3 2 3 0]\n",
      "Q 91+59  \n",
      "T 150 \n",
      "\u001b[91m☒\u001b[0m 101 \n",
      "---\n",
      "\n",
      "[3 2 2 0]\n",
      "Q 89+202 \n",
      "T 291 \n",
      "\u001b[91m☒\u001b[0m 100 \n",
      "---\n",
      "\n",
      "[4 4 3 0]\n",
      "Q 12+105 \n",
      "T 117 \n",
      "\u001b[91m☒\u001b[0m 221 \n",
      "---\n",
      "\n",
      "[6 6 5 0]\n",
      "Q 843+4  \n",
      "T 847 \n",
      "\u001b[91m☒\u001b[0m 443 \n",
      "---\n",
      "\n",
      "[3 2 5 0]\n",
      "Q 19+440 \n",
      "T 459 \n",
      "\u001b[91m☒\u001b[0m 103 \n",
      "---\n",
      "\n",
      "[3 2 2 0]\n",
      "Q 114+136\n",
      "T 250 \n",
      "\u001b[91m☒\u001b[0m 100 \n",
      "---\n",
      "\n",
      "\n",
      "--------------------------------------------------\n",
      "Iteration 2\n",
      "Train on 45000 samples, validate on 5000 samples\n",
      "Epoch 1/1\n",
      "45000/45000 [==============================] - 22s - loss: 1.6299 - acc: 0.3946 - val_loss: 1.5220 - val_acc: 0.4308\n",
      "[10  2  8  0]\n",
      "Q 853+72 \n",
      "T 925 \n",
      "\u001b[91m☒\u001b[0m 806 \n",
      "---\n",
      "\n",
      "[9 5 7 0]\n",
      "Q 573+1  \n",
      "T 574 \n",
      "\u001b[91m☒\u001b[0m 735 \n",
      "---\n",
      "\n",
      "[11 11  9  0]\n",
      "Q 51+881 \n",
      "T 932 \n",
      "\u001b[91m☒\u001b[0m 997 \n",
      "---\n",
      "\n",
      "[9 9 9 0]\n",
      "Q 77+164 \n",
      "T 241 \n",
      "\u001b[91m☒\u001b[0m 777 \n",
      "---\n",
      "\n",
      "[3 4 5 7]\n",
      "Q 265+955\n",
      "T 1220\n",
      "\u001b[91m☒\u001b[0m 1235\n",
      "---\n",
      "\n",
      "[11 11  8  0]\n",
      "Q 98+816 \n",
      "T 914 \n",
      "\u001b[91m☒\u001b[0m 996 \n",
      "---\n",
      "\n",
      "[6 6 8 0]\n",
      "Q 143+2  \n",
      "T 145 \n",
      "\u001b[91m☒\u001b[0m 446 \n",
      "---\n",
      "\n",
      "[7 7 7 0]\n",
      "Q 55+90  \n",
      "T 145 \n",
      "\u001b[91m☒\u001b[0m 555 \n",
      "---\n",
      "\n",
      "[3 3 4 0]\n",
      "Q 189+7  \n",
      "T 196 \n",
      "\u001b[91m☒\u001b[0m 112 \n",
      "---\n",
      "\n",
      "[4 3 3 0]\n",
      "Q 11+193 \n",
      "T 204 \n",
      "\u001b[91m☒\u001b[0m 211 \n",
      "---\n",
      "\n",
      "\n",
      "--------------------------------------------------\n",
      "Iteration 3\n",
      "Train on 45000 samples, validate on 5000 samples\n",
      "Epoch 1/1\n",
      "45000/45000 [==============================] - 23s - loss: 1.4102 - acc: 0.4730 - val_loss: 1.3082 - val_acc: 0.5035\n",
      "[8 9 9 0]\n",
      "Q 194+99 \n",
      "T 293 \n",
      "\u001b[91m☒\u001b[0m 677 \n",
      "---\n"
     ]
    }
   ],
   "source": [
    "# Train the model each generation and show predictions against the validation dataset\n",
    "# Number of iterations = number of passes, each pass using [batch size] number of examples. \n",
    "# To be clear, one pass = one forward pass + one backward pass \n",
    "# (we do not count the forward pass and backward pass as two different passes).\n",
    "for iteration in range(1, 200):\n",
    "    print()\n",
    "    print('-' * 50)\n",
    "    print('Iteration', iteration)\n",
    "    model.fit(X_train, y_train, batch_size=BATCH_SIZE, nb_epoch=1, verbose=2,\n",
    "              validation_data=(X_val, y_val))\n",
    "    ###\n",
    "    # Select 10 samples from the validation set at random so we can visualize errors\n",
    "    for i in range(10):\n",
    "        ind = np.random.randint(0, len(X_val))\n",
    "        rowX, rowy = X_val[np.array([ind])], y_val[np.array([ind])]\n",
    "        # Prediction of the model baesd on the rowX\n",
    "        preds = model.predict_classes(rowX, verbose=0)\n",
    "        print(preds[0])\n",
    "        # Decoding\n",
    "        q = ctable.decode(rowX[0])\n",
    "        correct = ctable.decode(rowy[0])\n",
    "        guess = ctable.decode(preds[0], calc_argmax=False)\n",
    "        # Printing\n",
    "        print('Q', q[::-1] if INVERT else q)\n",
    "        print('T', correct)\n",
    "        print(colors.ok + '☑' + colors.close if correct == guess else colors.fail + '☒' + colors.close, guess)\n",
    "        print('---')\n",
    "        \n",
    "        ()"
   ]
  },
  {
   "cell_type": "code",
   "execution_count": null,
   "metadata": {
    "collapsed": true
   },
   "outputs": [],
   "source": []
  }
 ],
 "metadata": {
  "kernelspec": {
   "display_name": "Python 3",
   "language": "python",
   "name": "python3"
  },
  "language_info": {
   "codemirror_mode": {
    "name": "ipython",
    "version": 3
   },
   "file_extension": ".py",
   "mimetype": "text/x-python",
   "name": "python",
   "nbconvert_exporter": "python",
   "pygments_lexer": "ipython3",
   "version": "3.4.3"
  }
 },
 "nbformat": 4,
 "nbformat_minor": 0
}
